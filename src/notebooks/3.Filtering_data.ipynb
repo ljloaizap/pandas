{
 "cells": [
  {
   "cell_type": "markdown",
   "id": "7a2ab6ef",
   "metadata": {},
   "source": [
    "Playing with **Excellent Pandas Notebooks from book Pandas Cookbook:** [kaggle discussion](https://www.kaggle.com/discussions/getting-started/120943)"
   ]
  },
  {
   "cell_type": "code",
   "execution_count": 128,
   "id": "2b67aa09",
   "metadata": {},
   "outputs": [],
   "source": [
    "import pandas as pd\n",
    "import numpy as np\n",
    "import matplotlib.pyplot as plt\n",
    "\n",
    "plt.style.use('ggplot')\n",
    "plt.rcParams['figure.figsize'] = (15, 5)"
   ]
  },
  {
   "cell_type": "markdown",
   "id": "daae619b",
   "metadata": {},
   "source": [
    "# More 'selecting' data"
   ]
  },
  {
   "cell_type": "code",
   "execution_count": 4,
   "id": "66f7278c",
   "metadata": {},
   "outputs": [
    {
     "data": {
      "text/plain": [
       "(111069, 52)"
      ]
     },
     "execution_count": 4,
     "metadata": {},
     "output_type": "execute_result"
    }
   ],
   "source": [
    "df_complaints = pd.read_csv('../data/311-service-requests.csv', dtype='unicode')\n",
    "df_complaints.shape"
   ]
  },
  {
   "cell_type": "markdown",
   "id": "ee7424c6",
   "metadata": {},
   "source": [
    "## 3.1 Filtering: selecting only noise complaints"
   ]
  },
  {
   "cell_type": "code",
   "execution_count": 52,
   "id": "c314b856",
   "metadata": {},
   "outputs": [
    {
     "data": {
      "text/html": [
       "<div>\n",
       "<style scoped>\n",
       "    .dataframe tbody tr th:only-of-type {\n",
       "        vertical-align: middle;\n",
       "    }\n",
       "\n",
       "    .dataframe tbody tr th {\n",
       "        vertical-align: top;\n",
       "    }\n",
       "\n",
       "    .dataframe thead th {\n",
       "        text-align: right;\n",
       "    }\n",
       "</style>\n",
       "<table border=\"1\" class=\"dataframe\">\n",
       "  <thead>\n",
       "    <tr style=\"text-align: right;\">\n",
       "      <th></th>\n",
       "      <th>Unique Key</th>\n",
       "      <th>Created Date</th>\n",
       "      <th>Closed Date</th>\n",
       "      <th>Agency</th>\n",
       "      <th>Agency Name</th>\n",
       "      <th>Complaint Type</th>\n",
       "      <th>Descriptor</th>\n",
       "      <th>Location Type</th>\n",
       "      <th>Incident Zip</th>\n",
       "      <th>Incident Address</th>\n",
       "      <th>...</th>\n",
       "      <th>Bridge Highway Name</th>\n",
       "      <th>Bridge Highway Direction</th>\n",
       "      <th>Road Ramp</th>\n",
       "      <th>Bridge Highway Segment</th>\n",
       "      <th>Garage Lot Name</th>\n",
       "      <th>Ferry Direction</th>\n",
       "      <th>Ferry Terminal Name</th>\n",
       "      <th>Latitude</th>\n",
       "      <th>Longitude</th>\n",
       "      <th>Location</th>\n",
       "    </tr>\n",
       "  </thead>\n",
       "  <tbody>\n",
       "    <tr>\n",
       "      <th>0</th>\n",
       "      <td>26589651</td>\n",
       "      <td>10/31/2013 02:08:41 AM</td>\n",
       "      <td>NaN</td>\n",
       "      <td>NYPD</td>\n",
       "      <td>New York City Police Department</td>\n",
       "      <td>Noise - Street/Sidewalk</td>\n",
       "      <td>Loud Talking</td>\n",
       "      <td>Street/Sidewalk</td>\n",
       "      <td>11432</td>\n",
       "      <td>90-03 169 STREET</td>\n",
       "      <td>...</td>\n",
       "      <td>NaN</td>\n",
       "      <td>NaN</td>\n",
       "      <td>NaN</td>\n",
       "      <td>NaN</td>\n",
       "      <td>NaN</td>\n",
       "      <td>NaN</td>\n",
       "      <td>NaN</td>\n",
       "      <td>40.70827532593202</td>\n",
       "      <td>-73.79160395779721</td>\n",
       "      <td>(40.70827532593202, -73.79160395779721)</td>\n",
       "    </tr>\n",
       "    <tr>\n",
       "      <th>16</th>\n",
       "      <td>26594086</td>\n",
       "      <td>10/31/2013 12:54:03 AM</td>\n",
       "      <td>10/31/2013 02:16:39 AM</td>\n",
       "      <td>NYPD</td>\n",
       "      <td>New York City Police Department</td>\n",
       "      <td>Noise - Street/Sidewalk</td>\n",
       "      <td>Loud Music/Party</td>\n",
       "      <td>Street/Sidewalk</td>\n",
       "      <td>10310</td>\n",
       "      <td>173 CAMPBELL AVENUE</td>\n",
       "      <td>...</td>\n",
       "      <td>NaN</td>\n",
       "      <td>NaN</td>\n",
       "      <td>NaN</td>\n",
       "      <td>NaN</td>\n",
       "      <td>NaN</td>\n",
       "      <td>NaN</td>\n",
       "      <td>NaN</td>\n",
       "      <td>40.63618202176914</td>\n",
       "      <td>-74.1161500428337</td>\n",
       "      <td>(40.63618202176914, -74.1161500428337)</td>\n",
       "    </tr>\n",
       "    <tr>\n",
       "      <th>25</th>\n",
       "      <td>26591573</td>\n",
       "      <td>10/31/2013 12:35:18 AM</td>\n",
       "      <td>10/31/2013 02:41:35 AM</td>\n",
       "      <td>NYPD</td>\n",
       "      <td>New York City Police Department</td>\n",
       "      <td>Noise - Street/Sidewalk</td>\n",
       "      <td>Loud Talking</td>\n",
       "      <td>Street/Sidewalk</td>\n",
       "      <td>10312</td>\n",
       "      <td>24 PRINCETON LANE</td>\n",
       "      <td>...</td>\n",
       "      <td>NaN</td>\n",
       "      <td>NaN</td>\n",
       "      <td>NaN</td>\n",
       "      <td>NaN</td>\n",
       "      <td>NaN</td>\n",
       "      <td>NaN</td>\n",
       "      <td>NaN</td>\n",
       "      <td>40.55342078716953</td>\n",
       "      <td>-74.19674315017886</td>\n",
       "      <td>(40.55342078716953, -74.19674315017886)</td>\n",
       "    </tr>\n",
       "  </tbody>\n",
       "</table>\n",
       "<p>3 rows × 52 columns</p>\n",
       "</div>"
      ],
      "text/plain": [
       "   Unique Key            Created Date             Closed Date Agency   \n",
       "0    26589651  10/31/2013 02:08:41 AM                     NaN   NYPD  \\\n",
       "16   26594086  10/31/2013 12:54:03 AM  10/31/2013 02:16:39 AM   NYPD   \n",
       "25   26591573  10/31/2013 12:35:18 AM  10/31/2013 02:41:35 AM   NYPD   \n",
       "\n",
       "                        Agency Name           Complaint Type   \n",
       "0   New York City Police Department  Noise - Street/Sidewalk  \\\n",
       "16  New York City Police Department  Noise - Street/Sidewalk   \n",
       "25  New York City Police Department  Noise - Street/Sidewalk   \n",
       "\n",
       "          Descriptor    Location Type Incident Zip     Incident Address  ...   \n",
       "0       Loud Talking  Street/Sidewalk        11432     90-03 169 STREET  ...  \\\n",
       "16  Loud Music/Party  Street/Sidewalk        10310  173 CAMPBELL AVENUE  ...   \n",
       "25      Loud Talking  Street/Sidewalk        10312    24 PRINCETON LANE  ...   \n",
       "\n",
       "   Bridge Highway Name Bridge Highway Direction Road Ramp   \n",
       "0                  NaN                      NaN       NaN  \\\n",
       "16                 NaN                      NaN       NaN   \n",
       "25                 NaN                      NaN       NaN   \n",
       "\n",
       "   Bridge Highway Segment Garage Lot Name Ferry Direction Ferry Terminal Name   \n",
       "0                     NaN             NaN             NaN                 NaN  \\\n",
       "16                    NaN             NaN             NaN                 NaN   \n",
       "25                    NaN             NaN             NaN                 NaN   \n",
       "\n",
       "             Latitude           Longitude   \n",
       "0   40.70827532593202  -73.79160395779721  \\\n",
       "16  40.63618202176914   -74.1161500428337   \n",
       "25  40.55342078716953  -74.19674315017886   \n",
       "\n",
       "                                   Location  \n",
       "0   (40.70827532593202, -73.79160395779721)  \n",
       "16   (40.63618202176914, -74.1161500428337)  \n",
       "25  (40.55342078716953, -74.19674315017886)  \n",
       "\n",
       "[3 rows x 52 columns]"
      ]
     },
     "execution_count": 52,
     "metadata": {},
     "output_type": "execute_result"
    }
   ],
   "source": [
    "df_noise_complaints = df_complaints[df_complaints['Complaint Type'] == 'Noise - Street/Sidewalk']\n",
    "df_noise_complaints[:3]"
   ]
  },
  {
   "cell_type": "markdown",
   "id": "df03ec59",
   "metadata": {},
   "source": [
    "### Dissecting that filter..."
   ]
  },
  {
   "cell_type": "code",
   "execution_count": 53,
   "id": "ccb4a9e8",
   "metadata": {},
   "outputs": [
    {
     "data": {
      "text/plain": [
       "0          True\n",
       "1         False\n",
       "2         False\n",
       "3         False\n",
       "4         False\n",
       "          ...  \n",
       "111064    False\n",
       "111065    False\n",
       "111066     True\n",
       "111067    False\n",
       "111068    False\n",
       "Name: Complaint Type, Length: 111069, dtype: bool"
      ]
     },
     "execution_count": 53,
     "metadata": {},
     "output_type": "execute_result"
    }
   ],
   "source": [
    "# Filtering by X value\n",
    "df_complaints['Complaint Type'] == 'Noise - Street/Sidewalk'"
   ]
  },
  {
   "cell_type": "code",
   "execution_count": 93,
   "id": "01dcf211",
   "metadata": {},
   "outputs": [
    {
     "data": {
      "text/html": [
       "<div>\n",
       "<style scoped>\n",
       "    .dataframe tbody tr th:only-of-type {\n",
       "        vertical-align: middle;\n",
       "    }\n",
       "\n",
       "    .dataframe tbody tr th {\n",
       "        vertical-align: top;\n",
       "    }\n",
       "\n",
       "    .dataframe thead th {\n",
       "        text-align: right;\n",
       "    }\n",
       "</style>\n",
       "<table border=\"1\" class=\"dataframe\">\n",
       "  <thead>\n",
       "    <tr style=\"text-align: right;\">\n",
       "      <th></th>\n",
       "      <th>Unique Key</th>\n",
       "      <th>Created Date</th>\n",
       "      <th>Closed Date</th>\n",
       "      <th>Agency</th>\n",
       "      <th>Agency Name</th>\n",
       "      <th>Complaint Type</th>\n",
       "      <th>Descriptor</th>\n",
       "      <th>Location Type</th>\n",
       "      <th>Incident Zip</th>\n",
       "      <th>Incident Address</th>\n",
       "      <th>...</th>\n",
       "      <th>Bridge Highway Name</th>\n",
       "      <th>Bridge Highway Direction</th>\n",
       "      <th>Road Ramp</th>\n",
       "      <th>Bridge Highway Segment</th>\n",
       "      <th>Garage Lot Name</th>\n",
       "      <th>Ferry Direction</th>\n",
       "      <th>Ferry Terminal Name</th>\n",
       "      <th>Latitude</th>\n",
       "      <th>Longitude</th>\n",
       "      <th>Location</th>\n",
       "    </tr>\n",
       "  </thead>\n",
       "  <tbody>\n",
       "    <tr>\n",
       "      <th>31</th>\n",
       "      <td>26595564</td>\n",
       "      <td>10/31/2013 12:30:36 AM</td>\n",
       "      <td>NaN</td>\n",
       "      <td>NYPD</td>\n",
       "      <td>New York City Police Department</td>\n",
       "      <td>Noise - Street/Sidewalk</td>\n",
       "      <td>Loud Music/Party</td>\n",
       "      <td>Street/Sidewalk</td>\n",
       "      <td>11236</td>\n",
       "      <td>AVENUE J</td>\n",
       "      <td>...</td>\n",
       "      <td>NaN</td>\n",
       "      <td>NaN</td>\n",
       "      <td>NaN</td>\n",
       "      <td>NaN</td>\n",
       "      <td>NaN</td>\n",
       "      <td>NaN</td>\n",
       "      <td>NaN</td>\n",
       "      <td>40.634103775951736</td>\n",
       "      <td>-73.91105541883589</td>\n",
       "      <td>(40.634103775951736, -73.91105541883589)</td>\n",
       "    </tr>\n",
       "    <tr>\n",
       "      <th>49</th>\n",
       "      <td>26595553</td>\n",
       "      <td>10/31/2013 12:05:10 AM</td>\n",
       "      <td>10/31/2013 02:43:43 AM</td>\n",
       "      <td>NYPD</td>\n",
       "      <td>New York City Police Department</td>\n",
       "      <td>Noise - Street/Sidewalk</td>\n",
       "      <td>Loud Talking</td>\n",
       "      <td>Street/Sidewalk</td>\n",
       "      <td>11225</td>\n",
       "      <td>25 LEFFERTS AVENUE</td>\n",
       "      <td>...</td>\n",
       "      <td>NaN</td>\n",
       "      <td>NaN</td>\n",
       "      <td>NaN</td>\n",
       "      <td>NaN</td>\n",
       "      <td>NaN</td>\n",
       "      <td>NaN</td>\n",
       "      <td>NaN</td>\n",
       "      <td>40.6617931276793</td>\n",
       "      <td>-73.95993363978067</td>\n",
       "      <td>(40.6617931276793, -73.95993363978067)</td>\n",
       "    </tr>\n",
       "    <tr>\n",
       "      <th>109</th>\n",
       "      <td>26594653</td>\n",
       "      <td>10/30/2013 11:26:32 PM</td>\n",
       "      <td>10/31/2013 12:18:54 AM</td>\n",
       "      <td>NYPD</td>\n",
       "      <td>New York City Police Department</td>\n",
       "      <td>Noise - Street/Sidewalk</td>\n",
       "      <td>Loud Music/Party</td>\n",
       "      <td>Street/Sidewalk</td>\n",
       "      <td>11222</td>\n",
       "      <td>NaN</td>\n",
       "      <td>...</td>\n",
       "      <td>NaN</td>\n",
       "      <td>NaN</td>\n",
       "      <td>NaN</td>\n",
       "      <td>NaN</td>\n",
       "      <td>NaN</td>\n",
       "      <td>NaN</td>\n",
       "      <td>NaN</td>\n",
       "      <td>40.724599563793525</td>\n",
       "      <td>-73.95427134534344</td>\n",
       "      <td>(40.724599563793525, -73.95427134534344)</td>\n",
       "    </tr>\n",
       "    <tr>\n",
       "      <th>236</th>\n",
       "      <td>26591992</td>\n",
       "      <td>10/30/2013 10:02:58 PM</td>\n",
       "      <td>10/30/2013 10:23:20 PM</td>\n",
       "      <td>NYPD</td>\n",
       "      <td>New York City Police Department</td>\n",
       "      <td>Noise - Street/Sidewalk</td>\n",
       "      <td>Loud Talking</td>\n",
       "      <td>Street/Sidewalk</td>\n",
       "      <td>11218</td>\n",
       "      <td>DITMAS AVENUE</td>\n",
       "      <td>...</td>\n",
       "      <td>NaN</td>\n",
       "      <td>NaN</td>\n",
       "      <td>NaN</td>\n",
       "      <td>NaN</td>\n",
       "      <td>NaN</td>\n",
       "      <td>NaN</td>\n",
       "      <td>NaN</td>\n",
       "      <td>40.63616876563881</td>\n",
       "      <td>-73.97245504682485</td>\n",
       "      <td>(40.63616876563881, -73.97245504682485)</td>\n",
       "    </tr>\n",
       "    <tr>\n",
       "      <th>370</th>\n",
       "      <td>26594167</td>\n",
       "      <td>10/30/2013 08:38:25 PM</td>\n",
       "      <td>10/30/2013 10:26:28 PM</td>\n",
       "      <td>NYPD</td>\n",
       "      <td>New York City Police Department</td>\n",
       "      <td>Noise - Street/Sidewalk</td>\n",
       "      <td>Loud Music/Party</td>\n",
       "      <td>Street/Sidewalk</td>\n",
       "      <td>11218</td>\n",
       "      <td>126 BEVERLY ROAD</td>\n",
       "      <td>...</td>\n",
       "      <td>NaN</td>\n",
       "      <td>NaN</td>\n",
       "      <td>NaN</td>\n",
       "      <td>NaN</td>\n",
       "      <td>NaN</td>\n",
       "      <td>NaN</td>\n",
       "      <td>NaN</td>\n",
       "      <td>40.6429222774404</td>\n",
       "      <td>-73.97876175474585</td>\n",
       "      <td>(40.6429222774404, -73.97876175474585)</td>\n",
       "    </tr>\n",
       "  </tbody>\n",
       "</table>\n",
       "<p>5 rows × 52 columns</p>\n",
       "</div>"
      ],
      "text/plain": [
       "    Unique Key            Created Date             Closed Date Agency   \n",
       "31    26595564  10/31/2013 12:30:36 AM                     NaN   NYPD  \\\n",
       "49    26595553  10/31/2013 12:05:10 AM  10/31/2013 02:43:43 AM   NYPD   \n",
       "109   26594653  10/30/2013 11:26:32 PM  10/31/2013 12:18:54 AM   NYPD   \n",
       "236   26591992  10/30/2013 10:02:58 PM  10/30/2013 10:23:20 PM   NYPD   \n",
       "370   26594167  10/30/2013 08:38:25 PM  10/30/2013 10:26:28 PM   NYPD   \n",
       "\n",
       "                         Agency Name           Complaint Type   \n",
       "31   New York City Police Department  Noise - Street/Sidewalk  \\\n",
       "49   New York City Police Department  Noise - Street/Sidewalk   \n",
       "109  New York City Police Department  Noise - Street/Sidewalk   \n",
       "236  New York City Police Department  Noise - Street/Sidewalk   \n",
       "370  New York City Police Department  Noise - Street/Sidewalk   \n",
       "\n",
       "           Descriptor    Location Type Incident Zip    Incident Address  ...   \n",
       "31   Loud Music/Party  Street/Sidewalk        11236            AVENUE J  ...  \\\n",
       "49       Loud Talking  Street/Sidewalk        11225  25 LEFFERTS AVENUE  ...   \n",
       "109  Loud Music/Party  Street/Sidewalk        11222                 NaN  ...   \n",
       "236      Loud Talking  Street/Sidewalk        11218       DITMAS AVENUE  ...   \n",
       "370  Loud Music/Party  Street/Sidewalk        11218    126 BEVERLY ROAD  ...   \n",
       "\n",
       "    Bridge Highway Name Bridge Highway Direction Road Ramp   \n",
       "31                  NaN                      NaN       NaN  \\\n",
       "49                  NaN                      NaN       NaN   \n",
       "109                 NaN                      NaN       NaN   \n",
       "236                 NaN                      NaN       NaN   \n",
       "370                 NaN                      NaN       NaN   \n",
       "\n",
       "    Bridge Highway Segment Garage Lot Name Ferry Direction   \n",
       "31                     NaN             NaN             NaN  \\\n",
       "49                     NaN             NaN             NaN   \n",
       "109                    NaN             NaN             NaN   \n",
       "236                    NaN             NaN             NaN   \n",
       "370                    NaN             NaN             NaN   \n",
       "\n",
       "    Ferry Terminal Name            Latitude           Longitude   \n",
       "31                  NaN  40.634103775951736  -73.91105541883589  \\\n",
       "49                  NaN    40.6617931276793  -73.95993363978067   \n",
       "109                 NaN  40.724599563793525  -73.95427134534344   \n",
       "236                 NaN   40.63616876563881  -73.97245504682485   \n",
       "370                 NaN    40.6429222774404  -73.97876175474585   \n",
       "\n",
       "                                     Location  \n",
       "31   (40.634103775951736, -73.91105541883589)  \n",
       "49     (40.6617931276793, -73.95993363978067)  \n",
       "109  (40.724599563793525, -73.95427134534344)  \n",
       "236   (40.63616876563881, -73.97245504682485)  \n",
       "370    (40.6429222774404, -73.97876175474585)  \n",
       "\n",
       "[5 rows x 52 columns]"
      ]
     },
     "execution_count": 93,
     "metadata": {},
     "output_type": "execute_result"
    }
   ],
   "source": [
    "# combine conditions with & operator\n",
    "is_noise = df_complaints['Complaint Type'] == 'Noise - Street/Sidewalk'\n",
    "in_brooklyn = df_complaints['Borough'] == 'BROOKLYN'\n",
    "df_complaints[is_noise & in_brooklyn][:5]"
   ]
  },
  {
   "cell_type": "code",
   "execution_count": 95,
   "id": "8816794b",
   "metadata": {},
   "outputs": [
    {
     "data": {
      "text/html": [
       "<div>\n",
       "<style scoped>\n",
       "    .dataframe tbody tr th:only-of-type {\n",
       "        vertical-align: middle;\n",
       "    }\n",
       "\n",
       "    .dataframe tbody tr th {\n",
       "        vertical-align: top;\n",
       "    }\n",
       "\n",
       "    .dataframe thead th {\n",
       "        text-align: right;\n",
       "    }\n",
       "</style>\n",
       "<table border=\"1\" class=\"dataframe\">\n",
       "  <thead>\n",
       "    <tr style=\"text-align: right;\">\n",
       "      <th></th>\n",
       "      <th>Complaint Type</th>\n",
       "      <th>Borough</th>\n",
       "      <th>Created Date</th>\n",
       "      <th>Descriptor</th>\n",
       "    </tr>\n",
       "  </thead>\n",
       "  <tbody>\n",
       "    <tr>\n",
       "      <th>31</th>\n",
       "      <td>Noise - Street/Sidewalk</td>\n",
       "      <td>BROOKLYN</td>\n",
       "      <td>10/31/2013 12:30:36 AM</td>\n",
       "      <td>Loud Music/Party</td>\n",
       "    </tr>\n",
       "    <tr>\n",
       "      <th>49</th>\n",
       "      <td>Noise - Street/Sidewalk</td>\n",
       "      <td>BROOKLYN</td>\n",
       "      <td>10/31/2013 12:05:10 AM</td>\n",
       "      <td>Loud Talking</td>\n",
       "    </tr>\n",
       "    <tr>\n",
       "      <th>109</th>\n",
       "      <td>Noise - Street/Sidewalk</td>\n",
       "      <td>BROOKLYN</td>\n",
       "      <td>10/30/2013 11:26:32 PM</td>\n",
       "      <td>Loud Music/Party</td>\n",
       "    </tr>\n",
       "    <tr>\n",
       "      <th>236</th>\n",
       "      <td>Noise - Street/Sidewalk</td>\n",
       "      <td>BROOKLYN</td>\n",
       "      <td>10/30/2013 10:02:58 PM</td>\n",
       "      <td>Loud Talking</td>\n",
       "    </tr>\n",
       "    <tr>\n",
       "      <th>370</th>\n",
       "      <td>Noise - Street/Sidewalk</td>\n",
       "      <td>BROOKLYN</td>\n",
       "      <td>10/30/2013 08:38:25 PM</td>\n",
       "      <td>Loud Music/Party</td>\n",
       "    </tr>\n",
       "    <tr>\n",
       "      <th>378</th>\n",
       "      <td>Noise - Street/Sidewalk</td>\n",
       "      <td>BROOKLYN</td>\n",
       "      <td>10/30/2013 08:32:13 PM</td>\n",
       "      <td>Loud Talking</td>\n",
       "    </tr>\n",
       "    <tr>\n",
       "      <th>656</th>\n",
       "      <td>Noise - Street/Sidewalk</td>\n",
       "      <td>BROOKLYN</td>\n",
       "      <td>10/30/2013 06:07:39 PM</td>\n",
       "      <td>Loud Music/Party</td>\n",
       "    </tr>\n",
       "    <tr>\n",
       "      <th>1251</th>\n",
       "      <td>Noise - Street/Sidewalk</td>\n",
       "      <td>BROOKLYN</td>\n",
       "      <td>10/30/2013 03:04:51 PM</td>\n",
       "      <td>Loud Talking</td>\n",
       "    </tr>\n",
       "    <tr>\n",
       "      <th>5416</th>\n",
       "      <td>Noise - Street/Sidewalk</td>\n",
       "      <td>BROOKLYN</td>\n",
       "      <td>10/29/2013 10:07:02 PM</td>\n",
       "      <td>Loud Talking</td>\n",
       "    </tr>\n",
       "    <tr>\n",
       "      <th>5584</th>\n",
       "      <td>Noise - Street/Sidewalk</td>\n",
       "      <td>BROOKLYN</td>\n",
       "      <td>10/29/2013 08:15:59 PM</td>\n",
       "      <td>Loud Music/Party</td>\n",
       "    </tr>\n",
       "  </tbody>\n",
       "</table>\n",
       "</div>"
      ],
      "text/plain": [
       "               Complaint Type   Borough            Created Date   \n",
       "31    Noise - Street/Sidewalk  BROOKLYN  10/31/2013 12:30:36 AM  \\\n",
       "49    Noise - Street/Sidewalk  BROOKLYN  10/31/2013 12:05:10 AM   \n",
       "109   Noise - Street/Sidewalk  BROOKLYN  10/30/2013 11:26:32 PM   \n",
       "236   Noise - Street/Sidewalk  BROOKLYN  10/30/2013 10:02:58 PM   \n",
       "370   Noise - Street/Sidewalk  BROOKLYN  10/30/2013 08:38:25 PM   \n",
       "378   Noise - Street/Sidewalk  BROOKLYN  10/30/2013 08:32:13 PM   \n",
       "656   Noise - Street/Sidewalk  BROOKLYN  10/30/2013 06:07:39 PM   \n",
       "1251  Noise - Street/Sidewalk  BROOKLYN  10/30/2013 03:04:51 PM   \n",
       "5416  Noise - Street/Sidewalk  BROOKLYN  10/29/2013 10:07:02 PM   \n",
       "5584  Noise - Street/Sidewalk  BROOKLYN  10/29/2013 08:15:59 PM   \n",
       "\n",
       "            Descriptor  \n",
       "31    Loud Music/Party  \n",
       "49        Loud Talking  \n",
       "109   Loud Music/Party  \n",
       "236       Loud Talking  \n",
       "370   Loud Music/Party  \n",
       "378       Loud Talking  \n",
       "656   Loud Music/Party  \n",
       "1251      Loud Talking  \n",
       "5416      Loud Talking  \n",
       "5584  Loud Music/Party  "
      ]
     },
     "execution_count": 95,
     "metadata": {},
     "output_type": "execute_result"
    }
   ],
   "source": [
    "# Selecting only a few of columns\n",
    "df_complaints[is_noise & in_brooklyn][['Complaint Type', 'Borough', 'Created Date', 'Descriptor']][:10]"
   ]
  },
  {
   "cell_type": "markdown",
   "id": "77929834",
   "metadata": {},
   "source": [
    "## 3.2 A digression about numpy arrays"
   ]
  },
  {
   "cell_type": "markdown",
   "id": "1eb1f253",
   "metadata": {},
   "source": [
    "On the inside, the type of a column is `pd.Series`"
   ]
  },
  {
   "cell_type": "code",
   "execution_count": 66,
   "id": "1c5d6de3",
   "metadata": {},
   "outputs": [
    {
     "data": {
      "text/plain": [
       "0    1\n",
       "1    2\n",
       "2    3\n",
       "dtype: int64"
      ]
     },
     "execution_count": 66,
     "metadata": {},
     "output_type": "execute_result"
    }
   ],
   "source": [
    "series = pd.Series([1,2,3])\n",
    "series"
   ]
  },
  {
   "cell_type": "code",
   "execution_count": 67,
   "id": "e561e694",
   "metadata": {},
   "outputs": [
    {
     "data": {
      "text/plain": [
       "array([1, 2, 3])"
      ]
     },
     "execution_count": 67,
     "metadata": {},
     "output_type": "execute_result"
    }
   ],
   "source": [
    "series.values"
   ]
  },
  {
   "cell_type": "code",
   "execution_count": 68,
   "id": "cfd0fac7",
   "metadata": {},
   "outputs": [
    {
     "data": {
      "text/plain": [
       "numpy.ndarray"
      ]
     },
     "execution_count": 68,
     "metadata": {},
     "output_type": "execute_result"
    }
   ],
   "source": [
    "type(series.values)"
   ]
  },
  {
   "cell_type": "code",
   "execution_count": 73,
   "id": "57a773e6",
   "metadata": {},
   "outputs": [
    {
     "data": {
      "text/plain": [
       "array([ True, False,  True])"
      ]
     },
     "execution_count": 73,
     "metadata": {},
     "output_type": "execute_result"
    }
   ],
   "source": [
    "# evaluates each element of the array\n",
    "series.values != 2"
   ]
  },
  {
   "cell_type": "code",
   "execution_count": 91,
   "id": "f4861105",
   "metadata": {},
   "outputs": [
    {
     "data": {
      "text/plain": [
       "array([1, 3])"
      ]
     },
     "execution_count": 91,
     "metadata": {},
     "output_type": "execute_result"
    }
   ],
   "source": [
    "arr = np.array([1,2,3])\n",
    "arr[arr != 2]"
   ]
  },
  {
   "cell_type": "markdown",
   "id": "e2efbfbf",
   "metadata": {},
   "source": [
    "## 3.3 Which borough has the most noise complaints?"
   ]
  },
  {
   "cell_type": "code",
   "execution_count": 99,
   "id": "6781b2d9",
   "metadata": {},
   "outputs": [
    {
     "data": {
      "text/html": [
       "<div>\n",
       "<style scoped>\n",
       "    .dataframe tbody tr th:only-of-type {\n",
       "        vertical-align: middle;\n",
       "    }\n",
       "\n",
       "    .dataframe tbody tr th {\n",
       "        vertical-align: top;\n",
       "    }\n",
       "\n",
       "    .dataframe thead th {\n",
       "        text-align: right;\n",
       "    }\n",
       "</style>\n",
       "<table border=\"1\" class=\"dataframe\">\n",
       "  <thead>\n",
       "    <tr style=\"text-align: right;\">\n",
       "      <th></th>\n",
       "      <th>Unique Key</th>\n",
       "      <th>Created Date</th>\n",
       "      <th>Closed Date</th>\n",
       "      <th>Agency</th>\n",
       "      <th>Agency Name</th>\n",
       "      <th>Complaint Type</th>\n",
       "      <th>Descriptor</th>\n",
       "      <th>Location Type</th>\n",
       "      <th>Incident Zip</th>\n",
       "      <th>Incident Address</th>\n",
       "      <th>...</th>\n",
       "      <th>Bridge Highway Name</th>\n",
       "      <th>Bridge Highway Direction</th>\n",
       "      <th>Road Ramp</th>\n",
       "      <th>Bridge Highway Segment</th>\n",
       "      <th>Garage Lot Name</th>\n",
       "      <th>Ferry Direction</th>\n",
       "      <th>Ferry Terminal Name</th>\n",
       "      <th>Latitude</th>\n",
       "      <th>Longitude</th>\n",
       "      <th>Location</th>\n",
       "    </tr>\n",
       "  </thead>\n",
       "  <tbody>\n",
       "    <tr>\n",
       "      <th>0</th>\n",
       "      <td>26589651</td>\n",
       "      <td>10/31/2013 02:08:41 AM</td>\n",
       "      <td>NaN</td>\n",
       "      <td>NYPD</td>\n",
       "      <td>New York City Police Department</td>\n",
       "      <td>Noise - Street/Sidewalk</td>\n",
       "      <td>Loud Talking</td>\n",
       "      <td>Street/Sidewalk</td>\n",
       "      <td>11432</td>\n",
       "      <td>90-03 169 STREET</td>\n",
       "      <td>...</td>\n",
       "      <td>NaN</td>\n",
       "      <td>NaN</td>\n",
       "      <td>NaN</td>\n",
       "      <td>NaN</td>\n",
       "      <td>NaN</td>\n",
       "      <td>NaN</td>\n",
       "      <td>NaN</td>\n",
       "      <td>40.70827532593202</td>\n",
       "      <td>-73.79160395779721</td>\n",
       "      <td>(40.70827532593202, -73.79160395779721)</td>\n",
       "    </tr>\n",
       "    <tr>\n",
       "      <th>16</th>\n",
       "      <td>26594086</td>\n",
       "      <td>10/31/2013 12:54:03 AM</td>\n",
       "      <td>10/31/2013 02:16:39 AM</td>\n",
       "      <td>NYPD</td>\n",
       "      <td>New York City Police Department</td>\n",
       "      <td>Noise - Street/Sidewalk</td>\n",
       "      <td>Loud Music/Party</td>\n",
       "      <td>Street/Sidewalk</td>\n",
       "      <td>10310</td>\n",
       "      <td>173 CAMPBELL AVENUE</td>\n",
       "      <td>...</td>\n",
       "      <td>NaN</td>\n",
       "      <td>NaN</td>\n",
       "      <td>NaN</td>\n",
       "      <td>NaN</td>\n",
       "      <td>NaN</td>\n",
       "      <td>NaN</td>\n",
       "      <td>NaN</td>\n",
       "      <td>40.63618202176914</td>\n",
       "      <td>-74.1161500428337</td>\n",
       "      <td>(40.63618202176914, -74.1161500428337)</td>\n",
       "    </tr>\n",
       "    <tr>\n",
       "      <th>25</th>\n",
       "      <td>26591573</td>\n",
       "      <td>10/31/2013 12:35:18 AM</td>\n",
       "      <td>10/31/2013 02:41:35 AM</td>\n",
       "      <td>NYPD</td>\n",
       "      <td>New York City Police Department</td>\n",
       "      <td>Noise - Street/Sidewalk</td>\n",
       "      <td>Loud Talking</td>\n",
       "      <td>Street/Sidewalk</td>\n",
       "      <td>10312</td>\n",
       "      <td>24 PRINCETON LANE</td>\n",
       "      <td>...</td>\n",
       "      <td>NaN</td>\n",
       "      <td>NaN</td>\n",
       "      <td>NaN</td>\n",
       "      <td>NaN</td>\n",
       "      <td>NaN</td>\n",
       "      <td>NaN</td>\n",
       "      <td>NaN</td>\n",
       "      <td>40.55342078716953</td>\n",
       "      <td>-74.19674315017886</td>\n",
       "      <td>(40.55342078716953, -74.19674315017886)</td>\n",
       "    </tr>\n",
       "  </tbody>\n",
       "</table>\n",
       "<p>3 rows × 52 columns</p>\n",
       "</div>"
      ],
      "text/plain": [
       "   Unique Key            Created Date             Closed Date Agency   \n",
       "0    26589651  10/31/2013 02:08:41 AM                     NaN   NYPD  \\\n",
       "16   26594086  10/31/2013 12:54:03 AM  10/31/2013 02:16:39 AM   NYPD   \n",
       "25   26591573  10/31/2013 12:35:18 AM  10/31/2013 02:41:35 AM   NYPD   \n",
       "\n",
       "                        Agency Name           Complaint Type   \n",
       "0   New York City Police Department  Noise - Street/Sidewalk  \\\n",
       "16  New York City Police Department  Noise - Street/Sidewalk   \n",
       "25  New York City Police Department  Noise - Street/Sidewalk   \n",
       "\n",
       "          Descriptor    Location Type Incident Zip     Incident Address  ...   \n",
       "0       Loud Talking  Street/Sidewalk        11432     90-03 169 STREET  ...  \\\n",
       "16  Loud Music/Party  Street/Sidewalk        10310  173 CAMPBELL AVENUE  ...   \n",
       "25      Loud Talking  Street/Sidewalk        10312    24 PRINCETON LANE  ...   \n",
       "\n",
       "   Bridge Highway Name Bridge Highway Direction Road Ramp   \n",
       "0                  NaN                      NaN       NaN  \\\n",
       "16                 NaN                      NaN       NaN   \n",
       "25                 NaN                      NaN       NaN   \n",
       "\n",
       "   Bridge Highway Segment Garage Lot Name Ferry Direction Ferry Terminal Name   \n",
       "0                     NaN             NaN             NaN                 NaN  \\\n",
       "16                    NaN             NaN             NaN                 NaN   \n",
       "25                    NaN             NaN             NaN                 NaN   \n",
       "\n",
       "             Latitude           Longitude   \n",
       "0   40.70827532593202  -73.79160395779721  \\\n",
       "16  40.63618202176914   -74.1161500428337   \n",
       "25  40.55342078716953  -74.19674315017886   \n",
       "\n",
       "                                   Location  \n",
       "0   (40.70827532593202, -73.79160395779721)  \n",
       "16   (40.63618202176914, -74.1161500428337)  \n",
       "25  (40.55342078716953, -74.19674315017886)  \n",
       "\n",
       "[3 rows x 52 columns]"
      ]
     },
     "execution_count": 99,
     "metadata": {},
     "output_type": "execute_result"
    }
   ],
   "source": [
    "df_noise_complaints = df_complaints[is_noise]\n",
    "df_noise_complaints[:3]"
   ]
  },
  {
   "cell_type": "code",
   "execution_count": 110,
   "id": "e6e3f358",
   "metadata": {},
   "outputs": [
    {
     "data": {
      "text/plain": [
       "Borough\n",
       "MANHATTAN        917\n",
       "BROOKLYN         456\n",
       "BRONX            292\n",
       "QUEENS           226\n",
       "STATEN ISLAND     36\n",
       "Unspecified        1\n",
       "Name: count, dtype: int64"
      ]
     },
     "execution_count": 110,
     "metadata": {},
     "output_type": "execute_result"
    }
   ],
   "source": [
    "# Manhattan is the borough with most noise!\n",
    "se_noise_counts = df_noise_complaints['Borough'].value_counts()\n",
    "se_noise_counts"
   ]
  },
  {
   "cell_type": "code",
   "execution_count": 112,
   "id": "685a0e7a",
   "metadata": {},
   "outputs": [
    {
     "data": {
      "text/plain": [
       "Borough\n",
       "BROOKLYN         32890\n",
       "MANHATTAN        24288\n",
       "QUEENS           22281\n",
       "BRONX            19686\n",
       "Unspecified       7107\n",
       "STATEN ISLAND     4817\n",
       "Name: count, dtype: int64"
      ]
     },
     "execution_count": 112,
     "metadata": {},
     "output_type": "execute_result"
    }
   ],
   "source": [
    "# Get total number of requests per borough\n",
    "se_complaints_counts = df_complaints['Borough'].value_counts()\n",
    "se_complaints_counts"
   ]
  },
  {
   "cell_type": "code",
   "execution_count": 119,
   "id": "64dbc865",
   "metadata": {},
   "outputs": [
    {
     "data": {
      "text/plain": [
       "Borough\n",
       "BRONX            0.014833\n",
       "BROOKLYN         0.013864\n",
       "MANHATTAN        0.037755\n",
       "QUEENS           0.010143\n",
       "STATEN ISLAND    0.007474\n",
       "Unspecified      0.000141\n",
       "Name: count, dtype: float64"
      ]
     },
     "execution_count": 119,
     "metadata": {},
     "output_type": "execute_result"
    }
   ],
   "source": [
    "# Let's get percentage of noise over the total number of requests\n",
    "se_noise_percentage = se_noise_counts / se_complaints_counts\n",
    "se_noise_percentage"
   ]
  },
  {
   "cell_type": "code",
   "execution_count": 131,
   "id": "91784112",
   "metadata": {},
   "outputs": [
    {
     "data": {
      "text/plain": [
       "<Axes: ylabel='count'>"
      ]
     },
     "execution_count": 131,
     "metadata": {},
     "output_type": "execute_result"
    },
    {
     "data": {
      "image/png": "[encoded data removed]",
      "text/plain": [
       "<Figure size 1500x500 with 1 Axes>"
      ]
     },
     "metadata": {},
     "output_type": "display_data"
    }
   ],
   "source": [
    "se_noise_percentage.plot(kind='pie')"
   ]
  }
 ],
 "metadata": {
  "kernelspec": {
   "display_name": "pandasprom",
   "language": "python",
   "name": "pandasprom"
  },
  "language_info": {
   "codemirror_mode": {
    "name": "ipython",
    "version": 3
   },
   "file_extension": ".py",
   "mimetype": "text/x-python",
   "name": "python",
   "nbconvert_exporter": "python",
   "pygments_lexer": "ipython3",
   "version": "3.8.10"
  }
 },
 "nbformat": 4,
 "nbformat_minor": 5
}
